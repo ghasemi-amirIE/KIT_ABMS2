{
  "nbformat": 4,
  "nbformat_minor": 0,
  "metadata": {
    "colab": {
      "provenance": []
    },
    "kernelspec": {
      "name": "python3",
      "display_name": "Python 3"
    },
    "language_info": {
      "name": "python"
    }
  },
  "cells": [
    {
      "cell_type": "markdown",
      "source": [
        "Functions are reusable blocks of code that perform a specific task. They allow us to break down complex problems into smaller, manageable parts."
      ],
      "metadata": {
        "id": "L7Vo-TKi8oyK"
      }
    },
    {
      "cell_type": "code",
      "execution_count": 1,
      "metadata": {
        "id": "Mzz_bQEJ8Tm2"
      },
      "outputs": [],
      "source": [
        "def function_name(parameters):\n",
        "    # code block\n",
        "    return value  # optional"
      ]
    },
    {
      "cell_type": "markdown",
      "source": [
        "Demonstrate a basic function that takes an argument and prints a message."
      ],
      "metadata": {
        "id": "IG-KThem80w_"
      }
    },
    {
      "cell_type": "code",
      "source": [
        "def greet(name):\n",
        "    print(f\"Hello, {name}!\")\n",
        "\n",
        "# Call the function\n",
        "greet(\"Alice\")\n",
        "greet(\"Bob\")"
      ],
      "metadata": {
        "colab": {
          "base_uri": "https://localhost:8080/"
        },
        "id": "Po7vKrgn80Af",
        "outputId": "d5e5252f-a159-4c83-b819-e1e7a70ae492"
      },
      "execution_count": 2,
      "outputs": [
        {
          "output_type": "stream",
          "name": "stdout",
          "text": [
            "Hello, Alice!\n",
            "Hello, Bob!\n"
          ]
        }
      ]
    },
    {
      "cell_type": "markdown",
      "source": [
        "Write a function that calculates the square of a number and returns the result."
      ],
      "metadata": {
        "id": "NDBrO_AO873N"
      }
    },
    {
      "cell_type": "code",
      "source": [
        "def square(number):\n",
        "    return number * number\n",
        "\n",
        "result = square(5)\n",
        "print(\"The square of 5 is:\", result)"
      ],
      "metadata": {
        "colab": {
          "base_uri": "https://localhost:8080/"
        },
        "id": "qFx8GH4d8-UM",
        "outputId": "045c17d9-12e4-4e53-d023-57c66a3fbcf9"
      },
      "execution_count": 3,
      "outputs": [
        {
          "output_type": "stream",
          "name": "stdout",
          "text": [
            "The square of 5 is: 25\n"
          ]
        }
      ]
    },
    {
      "cell_type": "markdown",
      "source": [
        "Show how to define default parameter values."
      ],
      "metadata": {
        "id": "AUm8rKsy9HzG"
      }
    },
    {
      "cell_type": "code",
      "source": [
        "def greet(name, message=\"Hello\"):\n",
        "    print(f\"{message}, {name}!\")\n",
        "\n",
        "greet(\"Alice\")           # Uses default message\n",
        "greet(\"Bob\", \"Welcome\")   # Custom message"
      ],
      "metadata": {
        "colab": {
          "base_uri": "https://localhost:8080/"
        },
        "id": "Co9Zs4cW9M97",
        "outputId": "a21d4f51-990e-42f0-956c-d5e2472686b2"
      },
      "execution_count": 4,
      "outputs": [
        {
          "output_type": "stream",
          "name": "stdout",
          "text": [
            "Hello, Alice!\n",
            "Welcome, Bob!\n"
          ]
        }
      ]
    },
    {
      "cell_type": "markdown",
      "source": [
        "Variables created inside a function are local to that function and cannot be accessed outside it."
      ],
      "metadata": {
        "id": "QRvUcJJN9Q4d"
      }
    },
    {
      "cell_type": "code",
      "source": [
        "def example():\n",
        "    x = 10\n",
        "    print(x)\n",
        "\n",
        "example()\n",
        "# print(x)  # Uncommenting this will result in an error because x is not accessible here"
      ],
      "metadata": {
        "colab": {
          "base_uri": "https://localhost:8080/"
        },
        "id": "L_2I_Dx49U9d",
        "outputId": "612dc639-4bee-415d-e333-a3863ec54c19"
      },
      "execution_count": 5,
      "outputs": [
        {
          "output_type": "stream",
          "name": "stdout",
          "text": [
            "10\n"
          ]
        }
      ]
    },
    {
      "cell_type": "markdown",
      "source": [
        "# **Part 2: Object-Oriented Programming (OOP) Basics**"
      ],
      "metadata": {
        "id": "hKNZXwHp9aRt"
      }
    },
    {
      "cell_type": "markdown",
      "source": [
        "OOP is a programming paradigm that uses \"objects\" (data and methods) to design applications. It helps organize code in a way that models real-world systems.\n",
        "Key Terms:\n",
        "\n",
        "Class: A blueprint for creating objects.\n",
        "\n",
        "Object: An instance of a class.\n",
        "\n",
        "Attributes: Variables that hold data specific to an object.\n",
        "\n",
        "Methods: Functions that operate on an object’s data."
      ],
      "metadata": {
        "id": "_6h99Cb69mnt"
      }
    },
    {
      "cell_type": "markdown",
      "source": [
        "Example: Create a Dog class with a simple structure."
      ],
      "metadata": {
        "id": "lUXyMeDC9xCZ"
      }
    },
    {
      "cell_type": "code",
      "source": [
        "class Dog:\n",
        "    # Constructor\n",
        "    def __init__(self, name, age):\n",
        "        self.name = name  # Attribute\n",
        "        self.age = age    # Attribute\n",
        "\n",
        "    # Method\n",
        "    def bark(self):\n",
        "        print(\"Woof! Woof!\")\n",
        "\n",
        "# Creating an object (instance of Dog)\n",
        "my_dog = Dog(\"Buddy\", 3)\n",
        "print(my_dog.name)  # Accessing attributes\n",
        "print(my_dog.age)\n",
        "my_dog.bark()  # Calling a method"
      ],
      "metadata": {
        "colab": {
          "base_uri": "https://localhost:8080/"
        },
        "id": "-PQhNK6J9ejh",
        "outputId": "b5ccaca4-d9af-4b30-cc00-bc471a4c9472"
      },
      "execution_count": 6,
      "outputs": [
        {
          "output_type": "stream",
          "name": "stdout",
          "text": [
            "Buddy\n",
            "3\n",
            "Woof! Woof!\n"
          ]
        }
      ]
    },
    {
      "cell_type": "markdown",
      "source": [
        "The __init__ method is called automatically when a new object is created. It initializes the object’s attributes."
      ],
      "metadata": {
        "id": "vQpe9C5g96Nd"
      }
    },
    {
      "cell_type": "code",
      "source": [
        "class Car:\n",
        "    def __init__(self, brand, color):\n",
        "        self.brand = brand\n",
        "        self.color = color\n",
        "\n",
        "    def start_engine(self):\n",
        "        print(f\"{self.brand} engine started!\")\n",
        "\n",
        "# Create an object\n",
        "my_car = Car(\"Toyota\", \"red\")\n",
        "print(my_car.brand)       # Toyota\n",
        "print(my_car.color)       # red\n",
        "my_car.start_engine()     # Toyota engine started!"
      ],
      "metadata": {
        "colab": {
          "base_uri": "https://localhost:8080/"
        },
        "id": "dus98WMP9_EX",
        "outputId": "1af30a66-12df-4ca3-f732-6d480603979b"
      },
      "execution_count": 7,
      "outputs": [
        {
          "output_type": "stream",
          "name": "stdout",
          "text": [
            "Toyota\n",
            "red\n",
            "Toyota engine started!\n"
          ]
        }
      ]
    },
    {
      "cell_type": "markdown",
      "source": [
        "Instance attributes are specific to each object, while class attributes are shared across all instances of a class."
      ],
      "metadata": {
        "id": "_NEGr1p4-Mxh"
      }
    },
    {
      "cell_type": "code",
      "source": [
        "class Student:\n",
        "    school = \"High School\"  # Class attribute\n",
        "\n",
        "    def __init__(self, name, grade):\n",
        "        self.name = name       # Instance attribute\n",
        "        self.grade = grade     # Instance attribute\n",
        "\n",
        "# Creating instances\n",
        "student1 = Student(\"Alice\", 10)\n",
        "student2 = Student(\"Bob\", 12)\n",
        "\n",
        "print(student1.school)  # Both have the same school\n",
        "print(student2.school)\n",
        "student1.grade = 11     # Change the grade for student1 only\n",
        "print(student1.grade)\n",
        "print(student2.grade)"
      ],
      "metadata": {
        "colab": {
          "base_uri": "https://localhost:8080/"
        },
        "id": "7-7XxUaE-N4F",
        "outputId": "9094858d-89ad-4ca7-cdbe-5d5172174f8c"
      },
      "execution_count": 8,
      "outputs": [
        {
          "output_type": "stream",
          "name": "stdout",
          "text": [
            "High School\n",
            "High School\n",
            "11\n",
            "12\n"
          ]
        }
      ]
    },
    {
      "cell_type": "markdown",
      "source": [
        "Encapsulation hides the internal state of an object from the outside world.\n",
        "\n",
        "Example: Create a BankAccount class with a private attribute _balance and methods to deposit and withdraw money."
      ],
      "metadata": {
        "id": "k-HTAc9J-THB"
      }
    },
    {
      "cell_type": "code",
      "source": [
        "class BankAccount:\n",
        "    def __init__(self, initial_balance=0):\n",
        "        self._balance = initial_balance  # Private attribute\n",
        "\n",
        "    def deposit(self, amount):\n",
        "        if amount > 0:\n",
        "            self._balance += amount\n",
        "            print(f\"Deposited: {amount}\")\n",
        "\n",
        "    def withdraw(self, amount):\n",
        "        if 0 < amount <= self._balance:\n",
        "            self._balance -= amount\n",
        "            print(f\"Withdrawn: {amount}\")\n",
        "        else:\n",
        "            print(\"Insufficient funds\")\n",
        "\n",
        "    def get_balance(self):\n",
        "        return self._balance\n",
        "\n",
        "# Creating an object and using methods\n",
        "my_account = BankAccount(100)\n",
        "my_account.deposit(50)\n",
        "my_account.withdraw(30)\n",
        "print(\"Current balance:\", my_account.get_balance())"
      ],
      "metadata": {
        "colab": {
          "base_uri": "https://localhost:8080/"
        },
        "id": "rF8CGxy--Y7C",
        "outputId": "ba86ac4c-3161-4874-9087-5887b2333d97"
      },
      "execution_count": 9,
      "outputs": [
        {
          "output_type": "stream",
          "name": "stdout",
          "text": [
            "Deposited: 50\n",
            "Withdrawn: 30\n",
            "Current balance: 120\n"
          ]
        }
      ]
    },
    {
      "cell_type": "markdown",
      "source": [
        "Inheritance allows a class to inherit attributes and methods from another class, promoting code reuse.\n",
        "\n",
        "Example: Create a Dog class that inherits from an Animal class."
      ],
      "metadata": {
        "id": "h4EKT_u6-dJ4"
      }
    },
    {
      "cell_type": "code",
      "source": [
        "class Animal:\n",
        "    def __init__(self, name):\n",
        "        self.name = name\n",
        "\n",
        "    def make_sound(self):\n",
        "        print(\"Animal sound\")\n",
        "\n",
        "class Dog(Animal):  # Dog inherits from Animal\n",
        "    def make_sound(self):  # Overriding the make_sound method\n",
        "        print(\"Woof! Woof!\")\n",
        "\n",
        "my_dog = Dog(\"Buddy\")\n",
        "my_dog.make_sound()  # Woof! Woof!"
      ],
      "metadata": {
        "colab": {
          "base_uri": "https://localhost:8080/"
        },
        "id": "sx3gC8Gb-hEs",
        "outputId": "c0dd5513-29cc-4d02-fad3-23b8183e1e91"
      },
      "execution_count": 10,
      "outputs": [
        {
          "output_type": "stream",
          "name": "stdout",
          "text": [
            "Woof! Woof!\n"
          ]
        }
      ]
    },
    {
      "cell_type": "markdown",
      "source": [
        "This example will demonstrate inheritance by creating a hierarchy of shapes. We’ll start with a base class Shape and create specific subclasses for different types of shapes like Circle and Rectangle, each with their own methods for calculating the area."
      ],
      "metadata": {
        "id": "AiMO6IGn_DSq"
      }
    },
    {
      "cell_type": "code",
      "source": [
        "import math\n",
        "\n",
        "# Base class\n",
        "class Shape:\n",
        "    def __init__(self, color=\"black\"):\n",
        "        self.color = color\n",
        "\n",
        "    def describe(self):\n",
        "        print(f\"This is a {self.color} shape.\")\n",
        "\n",
        "# Circle class inheriting from Shape\n",
        "class Circle(Shape):\n",
        "    def __init__(self, radius, color=\"black\"):\n",
        "        super().__init__(color)  # Call the parent class's initializer\n",
        "        self.radius = radius\n",
        "\n",
        "    def area(self):\n",
        "        return math.pi * self.radius ** 2\n",
        "\n",
        "    def describe(self):\n",
        "        print(f\"This is a {self.color} circle with a radius of {self.radius}.\")\n",
        "\n",
        "# Rectangle class inheriting from Shape\n",
        "class Rectangle(Shape):\n",
        "    def __init__(self, width, height, color=\"black\"):\n",
        "        super().__init__(color)\n",
        "        self.width = width\n",
        "        self.height = height\n",
        "\n",
        "    def area(self):\n",
        "        return self.width * self.height\n",
        "\n",
        "    def describe(self):\n",
        "        print(f\"This is a {self.color} rectangle with width {self.width} and height {self.height}.\")\n",
        "\n",
        "# Creating instances and demonstrating polymorphism\n",
        "circle = Circle(radius=5, color=\"red\")\n",
        "rectangle = Rectangle(width=4, height=6, color=\"blue\")\n",
        "\n",
        "# Use describe method from each subclass\n",
        "circle.describe()       # Output: This is a red circle with a radius of 5.\n",
        "rectangle.describe()    # Output: This is a blue rectangle with width 4 and height 6.\n",
        "\n",
        "# Calculate area using subclass-specific methods\n",
        "print(\"Circle area:\", circle.area())       # Output: Circle area: 78.53981633974483\n",
        "print(\"Rectangle area:\", rectangle.area()) # Output: Rectangle area: 24"
      ],
      "metadata": {
        "colab": {
          "base_uri": "https://localhost:8080/"
        },
        "id": "AaDlDleD_EFd",
        "outputId": "622b6643-659e-4479-fcdd-f5175062d65d"
      },
      "execution_count": 11,
      "outputs": [
        {
          "output_type": "stream",
          "name": "stdout",
          "text": [
            "This is a red circle with a radius of 5.\n",
            "This is a blue rectangle with width 4 and height 6.\n",
            "Circle area: 78.53981633974483\n",
            "Rectangle area: 24\n"
          ]
        }
      ]
    }
  ]
}